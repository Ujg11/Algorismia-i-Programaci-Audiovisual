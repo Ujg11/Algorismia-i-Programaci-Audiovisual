{
 "cells": [
  {
   "cell_type": "markdown",
   "id": "b648bacd-36b8-49ec-ac3f-ecf411d88e2f",
   "metadata": {},
   "source": [
    "# Apunts Variàbles:\n"
   ]
  },
  {
   "cell_type": "code",
   "execution_count": 2,
   "id": "704ac2be-afe8-4060-9ce7-ffabb8f54f5f",
   "metadata": {},
   "outputs": [
    {
     "name": "stdout",
     "output_type": "stream",
     "text": [
      "<class 'int'>\n"
     ]
    }
   ],
   "source": [
    "a = 3\n",
    "print(type(a))\n"
   ]
  },
  {
   "cell_type": "code",
   "execution_count": 3,
   "id": "e8ec6b05-7b52-4d57-a2c9-cea00df56b9b",
   "metadata": {},
   "outputs": [
    {
     "data": {
      "text/plain": [
       "1j"
      ]
     },
     "execution_count": 3,
     "metadata": {},
     "output_type": "execute_result"
    }
   ],
   "source": [
    "1j"
   ]
  },
  {
   "cell_type": "code",
   "execution_count": 4,
   "id": "f102b42e-a1cc-4429-9a61-2ac6252c4793",
   "metadata": {},
   "outputs": [
    {
     "data": {
      "text/plain": [
       "0j"
      ]
     },
     "execution_count": 4,
     "metadata": {},
     "output_type": "execute_result"
    }
   ],
   "source": [
    "1j * 0"
   ]
  },
  {
   "cell_type": "code",
   "execution_count": null,
   "id": "ed316c15-ea73-4bbe-845d-5ec4240962a3",
   "metadata": {},
   "outputs": [],
   "source": []
  }
 ],
 "metadata": {
  "kernelspec": {
   "display_name": "Python 3 (ipykernel)",
   "language": "python",
   "name": "python3"
  },
  "language_info": {
   "codemirror_mode": {
    "name": "ipython",
    "version": 3
   },
   "file_extension": ".py",
   "mimetype": "text/x-python",
   "name": "python",
   "nbconvert_exporter": "python",
   "pygments_lexer": "ipython3",
   "version": "3.12.3"
  }
 },
 "nbformat": 4,
 "nbformat_minor": 5
}
