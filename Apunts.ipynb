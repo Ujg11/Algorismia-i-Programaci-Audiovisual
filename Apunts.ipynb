{
 "cells": [
  {
   "cell_type": "markdown",
   "id": "b648bacd-36b8-49ec-ac3f-ecf411d88e2f",
   "metadata": {},
   "source": [
    "# Apunts Variàbles:\n"
   ]
  },
  {
   "cell_type": "code",
   "execution_count": 2,
   "id": "704ac2be-afe8-4060-9ce7-ffabb8f54f5f",
   "metadata": {},
   "outputs": [
    {
     "name": "stdout",
     "output_type": "stream",
     "text": [
      "<class 'int'>\n"
     ]
    }
   ],
   "source": [
    "a = 3\n",
    "print(type(a))\n"
   ]
  },
  {
   "cell_type": "code",
   "execution_count": 3,
   "id": "e8ec6b05-7b52-4d57-a2c9-cea00df56b9b",
   "metadata": {},
   "outputs": [
    {
     "data": {
      "text/plain": [
       "1j"
      ]
     },
     "execution_count": 3,
     "metadata": {},
     "output_type": "execute_result"
    }
   ],
   "source": [
    "1j"
   ]
  },
  {
   "cell_type": "code",
   "execution_count": 4,
   "id": "f102b42e-a1cc-4429-9a61-2ac6252c4793",
   "metadata": {},
   "outputs": [
    {
     "data": {
      "text/plain": [
       "0j"
      ]
     },
     "execution_count": 4,
     "metadata": {},
     "output_type": "execute_result"
    }
   ],
   "source": [
    "1j * 0"
   ]
  },
  {
   "cell_type": "code",
   "execution_count": 1,
   "id": "ed316c15-ea73-4bbe-845d-5ec4240962a3",
   "metadata": {},
   "outputs": [
    {
     "data": {
      "text/plain": [
       "10.295630140987"
      ]
     },
     "execution_count": 1,
     "metadata": {},
     "output_type": "execute_result"
    }
   ],
   "source": [
    "abs(9 + 5j)"
   ]
  },
  {
   "cell_type": "code",
   "execution_count": 2,
   "id": "2e983d3c-a4d9-496b-ba55-64e9ff1aeb3b",
   "metadata": {},
   "outputs": [
    {
     "data": {
      "text/plain": [
       "9.0"
      ]
     },
     "execution_count": 2,
     "metadata": {},
     "output_type": "execute_result"
    }
   ],
   "source": [
    "complejo = 9 + 5j\n",
    "complejo.real"
   ]
  },
  {
   "cell_type": "code",
   "execution_count": 3,
   "id": "c6949975-f64b-4f07-b23e-fc3c16c6dde3",
   "metadata": {},
   "outputs": [
    {
     "data": {
      "text/plain": [
       "5.0"
      ]
     },
     "execution_count": 3,
     "metadata": {},
     "output_type": "execute_result"
    }
   ],
   "source": [
    "complejo.imag"
   ]
  },
  {
   "cell_type": "markdown",
   "id": "b572f49d-7090-4598-9685-0f54e8d75d15",
   "metadata": {},
   "source": [
    "### Llistes:"
   ]
  },
  {
   "cell_type": "code",
   "execution_count": 26,
   "id": "d9d6dca2-c500-4429-b743-3b93b334661d",
   "metadata": {},
   "outputs": [
    {
     "name": "stdout",
     "output_type": "stream",
     "text": [
      "[1, 3.66, 'HOla', 19, -804.9887, None, True, False, 'ultim']\n"
     ]
    }
   ],
   "source": [
    "llista = [1, 3.66, \"HOla\", 19, -0804.9887, None, True, False, 'ultim', ] #Pot acabar amb coma\n",
    "print(llista)"
   ]
  },
  {
   "cell_type": "code",
   "execution_count": 27,
   "id": "4f2ae790-69d0-4d50-83f8-d42745c74922",
   "metadata": {},
   "outputs": [
    {
     "data": {
      "text/plain": [
       "'ultim'"
      ]
     },
     "execution_count": 27,
     "metadata": {},
     "output_type": "execute_result"
    }
   ],
   "source": [
    "llista[-1] #Ens quedem amb l'últim element"
   ]
  },
  {
   "cell_type": "code",
   "execution_count": 28,
   "id": "5c01f01a-fe38-422e-8b55-8b03d4a19e9d",
   "metadata": {},
   "outputs": [
    {
     "data": {
      "text/plain": [
       "1"
      ]
     },
     "execution_count": 28,
     "metadata": {},
     "output_type": "execute_result"
    }
   ],
   "source": [
    "llista[0] #Com en C comença amb 0"
   ]
  },
  {
   "cell_type": "code",
   "execution_count": 29,
   "id": "a12a7f10-41ab-446d-8f9c-cc068f9c6f10",
   "metadata": {},
   "outputs": [
    {
     "data": {
      "text/plain": [
       "False"
      ]
     },
     "execution_count": 29,
     "metadata": {},
     "output_type": "execute_result"
    }
   ],
   "source": [
    "llista[-2] #Ens dona el penúltim, i així successivament"
   ]
  },
  {
   "cell_type": "code",
   "execution_count": 30,
   "id": "87464056-62be-4efa-a318-f26aae9a1507",
   "metadata": {},
   "outputs": [
    {
     "ename": "IndexError",
     "evalue": "list index out of range",
     "output_type": "error",
     "traceback": [
      "\u001b[0;31m---------------------------------------------------------------------------\u001b[0m",
      "\u001b[0;31mIndexError\u001b[0m                                Traceback (most recent call last)",
      "Cell \u001b[0;32mIn[30], line 1\u001b[0m\n\u001b[0;32m----> 1\u001b[0m \u001b[43mllista\u001b[49m\u001b[43m[\u001b[49m\u001b[38;5;241;43m-\u001b[39;49m\u001b[38;5;241;43m20\u001b[39;49m\u001b[43m]\u001b[49m \u001b[38;5;66;03m#Donara error\u001b[39;00m\n",
      "\u001b[0;31mIndexError\u001b[0m: list index out of range"
     ]
    }
   ],
   "source": [
    "llista[-20] #Donara error"
   ]
  },
  {
   "cell_type": "code",
   "execution_count": 31,
   "id": "adb32560-fd6b-4b69-9a83-5d9ade96f2d3",
   "metadata": {},
   "outputs": [
    {
     "data": {
      "text/plain": [
       "[1, 3.66, 'HOla', 19, -804.9887, None, True, False, 'ultim']"
      ]
     },
     "execution_count": 31,
     "metadata": {},
     "output_type": "execute_result"
    }
   ],
   "source": [
    "llista"
   ]
  },
  {
   "cell_type": "code",
   "execution_count": 32,
   "id": "44e9cede-36af-43dd-b8c6-57d7a1ac9ebf",
   "metadata": {},
   "outputs": [
    {
     "data": {
      "text/plain": [
       "[1, 'HOla', -804.9887, True]"
      ]
     },
     "execution_count": 32,
     "metadata": {},
     "output_type": "execute_result"
    }
   ],
   "source": [
    "llista[0:-1:2] #Del 0 al últim, cada 2 sense mostrar-nos l'últim, ja que mostra fins al postúltim"
   ]
  },
  {
   "cell_type": "code",
   "execution_count": 33,
   "id": "44f8ff7a-0c33-4871-bbdb-83764c307b8b",
   "metadata": {},
   "outputs": [
    {
     "data": {
      "text/plain": [
       "[1, 'HOla', -804.9887, True, 'ultim']"
      ]
     },
     "execution_count": 33,
     "metadata": {},
     "output_type": "execute_result"
    }
   ],
   "source": [
    "#Per mostrar fins al final i els parells el deixem buit:\n",
    "llista[0::2]"
   ]
  },
  {
   "cell_type": "code",
   "execution_count": 23,
   "id": "d9fca82e-4079-4f91-ac8d-06361cc43e3d",
   "metadata": {},
   "outputs": [
    {
     "data": {
      "text/plain": [
       "[19, -804.9887, None, True, False]"
      ]
     },
     "execution_count": 23,
     "metadata": {},
     "output_type": "execute_result"
    }
   ],
   "source": [
    "llista[3:] #Ens mostrarà desde el 3 cap endavant"
   ]
  },
  {
   "cell_type": "code",
   "execution_count": 25,
   "id": "6ca3964f-ae24-46df-b2c8-f527a54d07f7",
   "metadata": {},
   "outputs": [
    {
     "data": {
      "text/plain": [
       "[None, True, False]"
      ]
     },
     "execution_count": 25,
     "metadata": {},
     "output_type": "execute_result"
    }
   ],
   "source": [
    "llista[-3:] #Ens donara desde el antepenúltim fins al final"
   ]
  },
  {
   "cell_type": "code",
   "execution_count": 34,
   "id": "eff30b04-ed22-4c56-93e4-ee0fa9d7045f",
   "metadata": {},
   "outputs": [
    {
     "data": {
      "text/plain": [
       "['ultim', False, True, None, -804.9887, 19, 'HOla', 3.66, 1]"
      ]
     },
     "execution_count": 34,
     "metadata": {},
     "output_type": "execute_result"
    }
   ],
   "source": [
    "llista[::-1] #Ens mostra la llista al revés"
   ]
  },
  {
   "cell_type": "code",
   "execution_count": 35,
   "id": "6af89204-6cad-4d44-b741-640e455a0968",
   "metadata": {},
   "outputs": [
    {
     "data": {
      "text/plain": [
       "[19, 'HOla', 3.66, 1]"
      ]
     },
     "execution_count": 35,
     "metadata": {},
     "output_type": "execute_result"
    }
   ],
   "source": [
    "llista[3::-1] #del llista[3] fins al principi"
   ]
  },
  {
   "cell_type": "code",
   "execution_count": 36,
   "id": "7d7e57ba-aca3-4501-a728-bb6b8524bb7c",
   "metadata": {},
   "outputs": [
    {
     "data": {
      "text/plain": [
       "[1, 3.66, 'HOla', 19, -804.9887, None, True, False, 'ultim', 'nou element']"
      ]
     },
     "execution_count": 36,
     "metadata": {},
     "output_type": "execute_result"
    }
   ],
   "source": [
    "llista.append(\"nou element\")\n",
    "llista"
   ]
  },
  {
   "cell_type": "code",
   "execution_count": 40,
   "id": "818a967c-f646-4146-8534-9e5431026128",
   "metadata": {},
   "outputs": [
    {
     "name": "stdout",
     "output_type": "stream",
     "text": [
      "[1, 3.66, 'HOla', 19, -804.9887, None, True, False, 'ultim', 'nou element', [99, 88, 'append_llista'], [99, 88, 'append_llista']]\n"
     ]
    }
   ],
   "source": [
    "# Per afegir vàris elements:\n",
    "llista.append([99, 88, \"append_llista\"])\n",
    "print(llista)"
   ]
  },
  {
   "cell_type": "code",
   "execution_count": 44,
   "id": "b241d339-e1bf-4cc6-9d57-49fa291556a1",
   "metadata": {},
   "outputs": [
    {
     "data": {
      "text/plain": [
       "[1,\n",
       " 3.66,\n",
       " 'HOla',\n",
       " 19,\n",
       " -804.9887,\n",
       " None,\n",
       " True,\n",
       " False,\n",
       " 'ultim',\n",
       " 'nou element',\n",
       " [99, 88, 'append_llista'],\n",
       " [99, 88, 'append_llista'],\n",
       " 3.4,\n",
       " 9]"
      ]
     },
     "execution_count": 44,
     "metadata": {},
     "output_type": "execute_result"
    }
   ],
   "source": [
    "#Per afegir una llista a una altre (sense ser una llista dins d'una altra):\n",
    "llista.extend([3.4, 9])\n",
    "llista"
   ]
  },
  {
   "cell_type": "code",
   "execution_count": 45,
   "id": "9b9d7fda-2003-42ee-a89d-7ce63c15c53b",
   "metadata": {},
   "outputs": [
    {
     "data": {
      "text/plain": [
       "9"
      ]
     },
     "execution_count": 45,
     "metadata": {},
     "output_type": "execute_result"
    }
   ],
   "source": [
    "# Per treure un element del final o per treure un element amb un índex:\n",
    "llista.pop()\n"
   ]
  },
  {
   "cell_type": "code",
   "execution_count": 47,
   "id": "763d4e3f-9fbb-4499-adcc-e7c3d23083c6",
   "metadata": {},
   "outputs": [
    {
     "data": {
      "text/plain": [
       "[99, 88, 'append_llista']"
      ]
     },
     "execution_count": 47,
     "metadata": {},
     "output_type": "execute_result"
    }
   ],
   "source": [
    "llista.pop(10)"
   ]
  },
  {
   "cell_type": "code",
   "execution_count": 48,
   "id": "9fbe5f24-6de5-4690-ac71-fd0df7392ad2",
   "metadata": {},
   "outputs": [
    {
     "name": "stdout",
     "output_type": "stream",
     "text": [
      "[1, 3.66, 'HOla', -804.9887, None, True, False, 'ultim', 'nou element', [99, 88, 'append_llista']]\n"
     ]
    }
   ],
   "source": [
    "llista.remove(19) # Borrarà la primera aparició de 19\n",
    "print(llista)\n",
    "#Si ho tornem a fer peta pq ja no hi ha"
   ]
  },
  {
   "cell_type": "code",
   "execution_count": 49,
   "id": "3bca983b-59ac-4043-bd5b-04281f7e6797",
   "metadata": {},
   "outputs": [
    {
     "data": {
      "text/plain": [
       "3"
      ]
     },
     "execution_count": 49,
     "metadata": {},
     "output_type": "execute_result"
    }
   ],
   "source": [
    "# Per contar quants elements iguals hi ha\n",
    "llista.append(1)\n",
    "llista.count(1)\n"
   ]
  },
  {
   "cell_type": "code",
   "execution_count": 53,
   "id": "b5aa9440-21f0-4077-8d03-b10f9285fcc2",
   "metadata": {},
   "outputs": [
    {
     "data": {
      "text/plain": [
       "11"
      ]
     },
     "execution_count": 53,
     "metadata": {},
     "output_type": "execute_result"
    }
   ],
   "source": [
    "llista.__len__() # Per saber la longitud"
   ]
  },
  {
   "cell_type": "code",
   "execution_count": 54,
   "id": "56e3d7db-6b8e-4da8-afa8-52adddf03216",
   "metadata": {},
   "outputs": [
    {
     "data": {
      "text/plain": [
       "[1,\n",
       " 3.66,\n",
       " 'HOla',\n",
       " -804.9887,\n",
       " None,\n",
       " 42,\n",
       " False,\n",
       " 'ultim',\n",
       " 'nou element',\n",
       " [99, 88, 'append_llista'],\n",
       " 1]"
      ]
     },
     "execution_count": 54,
     "metadata": {},
     "output_type": "execute_result"
    }
   ],
   "source": [
    "#per modificar un element\n",
    "llista[5] = 42\n",
    "llista"
   ]
  },
  {
   "cell_type": "code",
   "execution_count": 60,
   "id": "2b10e41a-242d-4f80-af3e-abf832df5bce",
   "metadata": {},
   "outputs": [
    {
     "data": {
      "text/plain": [
       "[1,\n",
       " 3.66,\n",
       " 'HOla',\n",
       " -804.9887,\n",
       " 'insertaaat',\n",
       " None,\n",
       " 42,\n",
       " False,\n",
       " 'ultim',\n",
       " 'nou element',\n",
       " [99, 88, 'append_llista'],\n",
       " 1]"
      ]
     },
     "execution_count": 60,
     "metadata": {},
     "output_type": "execute_result"
    }
   ],
   "source": [
    "#per insertar un objecte a un lloc de la llista\n",
    "llista.insert(4, \"insertaaat\") \n",
    "llista"
   ]
  },
  {
   "cell_type": "markdown",
   "id": "4e29e529-0220-4518-b17f-eed40badf08c",
   "metadata": {},
   "source": [
    "## Tuples:\n",
    "-----\n",
    "Son iguals que les llistes però són inmutables. Si dintre hi ha objectes mutables (com una llista) es poden mutar\n",
    "\n",
    "Són objectes separats per comes\n",
    "\n",
    "Serveixen per raons d'eficiència, ja que és més eficient que una llista. \n",
    "A part, amb els objectes inmutables podem construïr objectes \"Hashables\""
   ]
  },
  {
   "cell_type": "code",
   "execution_count": null,
   "id": "c6fb3583-e813-4ddf-89b3-6b053a4aacf8",
   "metadata": {},
   "outputs": [
    {
     "data": {
      "text/plain": [
       "(9, 'hola', 24, 42, 'aAaAaAa', [2, 5])"
      ]
     },
     "execution_count": 55,
     "metadata": {},
     "output_type": "execute_result"
    }
   ],
   "source": [
    "tupla = (9, \"hola\", 24, 42, \"aAaAaAa\", [2, 5])\n",
    "tupla"
   ]
  },
  {
   "cell_type": "code",
   "execution_count": 57,
   "id": "ea683ca8-0033-4ac3-b3ac-cd4f331637f8",
   "metadata": {},
   "outputs": [
    {
     "ename": "TypeError",
     "evalue": "'tuple' object does not support item assignment",
     "output_type": "error",
     "traceback": [
      "\u001b[0;31m---------------------------------------------------------------------------\u001b[0m",
      "\u001b[0;31mTypeError\u001b[0m                                 Traceback (most recent call last)",
      "Cell \u001b[0;32mIn[57], line 2\u001b[0m\n\u001b[1;32m      1\u001b[0m \u001b[38;5;66;03m#Un cop creada ja no es pot modificar\u001b[39;00m\n\u001b[0;32m----> 2\u001b[0m \u001b[43mtupla\u001b[49m\u001b[43m[\u001b[49m\u001b[38;5;241;43m3\u001b[39;49m\u001b[43m]\u001b[49m \u001b[38;5;241m=\u001b[39m \u001b[38;5;241m6\u001b[39m\n",
      "\u001b[0;31mTypeError\u001b[0m: 'tuple' object does not support item assignment"
     ]
    }
   ],
   "source": [
    "#Un cop creada ja no es pot modificar\n",
    "tupla[3] = 6"
   ]
  },
  {
   "cell_type": "code",
   "execution_count": 59,
   "id": "b5b88021-6fee-4aab-8b41-8f2314c720d1",
   "metadata": {},
   "outputs": [
    {
     "data": {
      "text/plain": [
       "(9, 'hola', 24, 42, 'aAaAaAa', [8, 5])"
      ]
     },
     "execution_count": 59,
     "metadata": {},
     "output_type": "execute_result"
    }
   ],
   "source": [
    "# Si que podem modificar la llista de dintre\n",
    "tupla[-1][0] = 8\n",
    "tupla"
   ]
  },
  {
   "cell_type": "markdown",
   "id": "b7c50dd9-c234-4cee-b0e9-f078577e3873",
   "metadata": {},
   "source": [
    "## Claus HASH\n",
    "\n",
    "No poden ser modificables de cap manera, ha de ser un objecte completament INMUTABE\n"
   ]
  },
  {
   "cell_type": "code",
   "execution_count": 61,
   "id": "fac12b4c-e127-43d7-822a-ae620d61b112",
   "metadata": {},
   "outputs": [
    {
     "data": {
      "text/plain": [
       "5745914321976161911"
      ]
     },
     "execution_count": 61,
     "metadata": {},
     "output_type": "execute_result"
    }
   ],
   "source": [
    "hash(\"hola\")\n"
   ]
  },
  {
   "cell_type": "code",
   "execution_count": 63,
   "id": "86b3ac79-5526-4f82-a9e0-2d1b96859956",
   "metadata": {},
   "outputs": [
    {
     "data": {
      "text/plain": [
       "95736830209777785"
      ]
     },
     "execution_count": 63,
     "metadata": {},
     "output_type": "execute_result"
    }
   ],
   "source": [
    "hash((\"hola\", 4, 5.9, 42)) # Li posem una llista dintre"
   ]
  },
  {
   "cell_type": "code",
   "execution_count": 64,
   "id": "cf51cf75-52af-4947-b783-16836eb6bc99",
   "metadata": {},
   "outputs": [
    {
     "ename": "TypeError",
     "evalue": "unhashable type: 'list'",
     "output_type": "error",
     "traceback": [
      "\u001b[0;31m---------------------------------------------------------------------------\u001b[0m",
      "\u001b[0;31mTypeError\u001b[0m                                 Traceback (most recent call last)",
      "Cell \u001b[0;32mIn[64], line 1\u001b[0m\n\u001b[0;32m----> 1\u001b[0m \u001b[38;5;28;43mhash\u001b[39;49m\u001b[43m(\u001b[49m\u001b[43m[\u001b[49m\u001b[38;5;241;43m2\u001b[39;49m\u001b[43m,\u001b[49m\u001b[43m \u001b[49m\u001b[38;5;241;43m5\u001b[39;49m\u001b[43m]\u001b[49m\u001b[43m)\u001b[49m\n",
      "\u001b[0;31mTypeError\u001b[0m: unhashable type: 'list'"
     ]
    }
   ],
   "source": [
    "hash([2, 5]) # No funciona ja que al tenir una llista dintre aquesta seria modificable i els objectes hash no poden ser-ho"
   ]
  },
  {
   "cell_type": "markdown",
   "id": "fc8ca604-9a3c-42e7-90c0-109ec6291fda",
   "metadata": {},
   "source": [
    "## Conjunts (Set)\n",
    "\n",
    "Un conjunt és una col·lecció d'objectes no repetits, no indexables i HASABLES.\n",
    "\n",
    "No podem posar en un conjunt un objecte que no sigui hashable. Una tupla no es podría.\n",
    "\n",
    "No pot tenir idèntics\n",
    "\n",
    "**Conjunts d'Euler:** Objectes separats per ',' i tancats per claus '{}'\n",
    "\n",
    "**Utilitat:** Quedarnos amb els elements no repetits d'una llista\n"
   ]
  },
  {
   "cell_type": "code",
   "execution_count": 66,
   "id": "515bae0a-9d10-4be3-ac06-3934d6555377",
   "metadata": {},
   "outputs": [
    {
     "name": "stdout",
     "output_type": "stream",
     "text": [
      "{1, 4, 7, 42, 44}\n"
     ]
    }
   ],
   "source": [
    "conjunt = {1, 4, 7, 42, 44, 4, 1} #Elimina els duplicats\n",
    "print(conjunt)"
   ]
  },
  {
   "cell_type": "code",
   "execution_count": 68,
   "id": "621a2ede-de55-42c0-81ba-98ae23a5fdfc",
   "metadata": {},
   "outputs": [
    {
     "name": "stdout",
     "output_type": "stream",
     "text": [
      "{0, 'Adeu', 2, 3, 4, 1, 'Hola'}\n"
     ]
    }
   ],
   "source": [
    "conjunt = {\"Hola\", 4, 2, \"Adeu\", 3, 0, 1, 2, \"Hola\", 3}\n",
    "print(conjunt)"
   ]
  },
  {
   "cell_type": "code",
   "execution_count": 69,
   "id": "24c94109-0b77-410e-a8ec-07a07acc7280",
   "metadata": {},
   "outputs": [
    {
     "data": {
      "text/plain": [
       "0"
      ]
     },
     "execution_count": 69,
     "metadata": {},
     "output_type": "execute_result"
    }
   ],
   "source": [
    "conjunt.pop() #Elimina el primer element"
   ]
  },
  {
   "cell_type": "code",
   "execution_count": 71,
   "id": "00b496e3-04a5-412b-a2fc-c1659412feec",
   "metadata": {},
   "outputs": [
    {
     "data": {
      "text/plain": [
       "{1, 2, 3, 4, 'Adeu', 'Hola'}"
      ]
     },
     "execution_count": 71,
     "metadata": {},
     "output_type": "execute_result"
    }
   ],
   "source": [
    "conjunt"
   ]
  },
  {
   "cell_type": "code",
   "execution_count": 72,
   "id": "8bdee929-3dc8-46db-b3d1-808d3d1bbb50",
   "metadata": {},
   "outputs": [],
   "source": [
    "conjunt.add(5)"
   ]
  },
  {
   "cell_type": "code",
   "execution_count": 73,
   "id": "523e7dd7-49dc-4c10-9b82-96daa5b00dc6",
   "metadata": {},
   "outputs": [
    {
     "name": "stdout",
     "output_type": "stream",
     "text": [
      "{'Adeu', 2, 3, 4, 1, 'Hola', 5}\n"
     ]
    }
   ],
   "source": [
    "print(conjunt)"
   ]
  },
  {
   "cell_type": "code",
   "execution_count": 75,
   "id": "f34646d9-7a57-49d5-9e03-0dea897393e9",
   "metadata": {},
   "outputs": [
    {
     "data": {
      "text/plain": [
       "{'ADEU', 'HOLA', 'adeu', 'hola'}"
      ]
     },
     "execution_count": 75,
     "metadata": {},
     "output_type": "execute_result"
    }
   ],
   "source": [
    "conjunt2 = {'hola', \"adeu\", \"HOLA\", \"ADEU\"}\n",
    "conjunt2"
   ]
  },
  {
   "cell_type": "code",
   "execution_count": 77,
   "id": "904df710-38bb-4a1a-b03e-f48d4721c754",
   "metadata": {},
   "outputs": [
    {
     "name": "stdout",
     "output_type": "stream",
     "text": [
      "set()\n"
     ]
    }
   ],
   "source": [
    "# Intersecció\n",
    "print(conjunt & conjunt2)"
   ]
  },
  {
   "cell_type": "code",
   "execution_count": 78,
   "id": "fe84a906-3757-43f5-8f90-e963ddcad416",
   "metadata": {},
   "outputs": [
    {
     "name": "stdout",
     "output_type": "stream",
     "text": [
      "{'Adeu', 2, 3, 4, 1, 5, 'adeu', 'HOLA', 'Hola', 'hola', 'ADEU'}\n"
     ]
    }
   ],
   "source": [
    "# Unió\n",
    "print(conjunt | conjunt2)"
   ]
  },
  {
   "cell_type": "code",
   "execution_count": 79,
   "id": "8a0ee53f-a433-453d-89ff-8dc9a3cba1db",
   "metadata": {},
   "outputs": [
    {
     "data": {
      "text/plain": [
       "{1, 2, 3, 4, 5, 'Adeu', 'Hola'}"
      ]
     },
     "execution_count": 79,
     "metadata": {},
     "output_type": "execute_result"
    }
   ],
   "source": [
    "# Diferencia\n",
    "conjunt - conjunt2"
   ]
  },
  {
   "cell_type": "code",
   "execution_count": 80,
   "id": "e72e194d-0a68-415e-a2f4-28494cf9a92d",
   "metadata": {},
   "outputs": [
    {
     "data": {
      "text/plain": [
       "False"
      ]
     },
     "execution_count": 80,
     "metadata": {},
     "output_type": "execute_result"
    }
   ],
   "source": [
    "#Operador comparació\n",
    "conjunt > {1, 2, 3, 4, 5, \"HOLA\"}"
   ]
  },
  {
   "cell_type": "code",
   "execution_count": 81,
   "id": "f51abc75-c817-4041-bebf-e7aa5238d1f2",
   "metadata": {},
   "outputs": [
    {
     "data": {
      "text/plain": [
       "{1, 2, 3, 4, 5, 'Adeu', 'Hola'}"
      ]
     },
     "execution_count": 81,
     "metadata": {},
     "output_type": "execute_result"
    }
   ],
   "source": [
    "conjunt"
   ]
  },
  {
   "cell_type": "code",
   "execution_count": 83,
   "id": "b75c0c20-dcdc-45e0-93f5-010df95385a1",
   "metadata": {},
   "outputs": [
    {
     "data": {
      "text/plain": [
       "True"
      ]
     },
     "execution_count": 83,
     "metadata": {},
     "output_type": "execute_result"
    }
   ],
   "source": [
    "conjunt == {1, 2, 3, 4, 5, 'Adeu', 'Hola'}"
   ]
  },
  {
   "cell_type": "code",
   "execution_count": 86,
   "id": "5d489f1d-a3b2-4482-9c7d-5667d56d3753",
   "metadata": {},
   "outputs": [
    {
     "data": {
      "text/plain": [
       "{1, 2, 3, 4, 5, 'Adeu', 'Hola', 'altre'}"
      ]
     },
     "execution_count": 86,
     "metadata": {},
     "output_type": "execute_result"
    }
   ],
   "source": [
    "conjunt.add(\"altre\")\n",
    "conjunt"
   ]
  },
  {
   "cell_type": "markdown",
   "id": "c089866e-9447-4e80-8b67-15626189fc95",
   "metadata": {},
   "source": [
    "##### Es pot crear un conjunt de conjunts? \n",
    "NOOOOOO"
   ]
  },
  {
   "cell_type": "code",
   "execution_count": 90,
   "id": "45e857e5-60e2-4422-9d73-275efd6bc46b",
   "metadata": {},
   "outputs": [
    {
     "ename": "TypeError",
     "evalue": "unhashable type: 'set'",
     "output_type": "error",
     "traceback": [
      "\u001b[0;31m---------------------------------------------------------------------------\u001b[0m",
      "\u001b[0;31mTypeError\u001b[0m                                 Traceback (most recent call last)",
      "Cell \u001b[0;32mIn[90], line 1\u001b[0m\n\u001b[0;32m----> 1\u001b[0m conjunt3 \u001b[38;5;241m=\u001b[39m {\u001b[38;5;241m4\u001b[39m, \u001b[38;5;241m2\u001b[39m, conjunt} \u001b[38;5;66;03m# Els conjunts no són Hashables\u001b[39;00m\n",
      "\u001b[0;31mTypeError\u001b[0m: unhashable type: 'set'"
     ]
    }
   ],
   "source": [
    "conjunt3 = {4, 2, conjunt} # Els conjunts no són Hashables"
   ]
  },
  {
   "cell_type": "code",
   "execution_count": 2,
   "id": "b829041b-c88f-41a0-bf04-bcb1de30df14",
   "metadata": {},
   "outputs": [
    {
     "name": "stdout",
     "output_type": "stream",
     "text": [
      "{1, 'ss', 9.5}\n",
      "{1, 'hola', 8.87, 'ss', 77, 9.5}\n"
     ]
    }
   ],
   "source": [
    "conjunto = {1, \"ss\", 9.5}\n",
    "conjunto2 = {77, \"hola\", 8.87}\n",
    "print(conjunto)\n",
    "conjunto = conjunto.union(conjunto2)\n",
    "print(conjunto)"
   ]
  },
  {
   "cell_type": "code",
   "execution_count": 4,
   "id": "ad494cf5-884d-4408-bdd4-0216905b34f3",
   "metadata": {},
   "outputs": [
    {
     "name": "stdout",
     "output_type": "stream",
     "text": [
      "{67, 'holii', frozenset({1, 'hola', 8.87, 'ss', 77, 9.5})}\n"
     ]
    }
   ],
   "source": [
    "# Ahora podemos meter el conjunto frozenset dentro de otro conjunto\n",
    "frozen = frozenset(conjunto)\n",
    "conjunto3 = {67, 'holii', frozen}\n",
    "print(conjunto3)"
   ]
  },
  {
   "cell_type": "code",
   "execution_count": 5,
   "id": "1af815c3-457f-4a7d-9416-d021f238eb0f",
   "metadata": {},
   "outputs": [
    {
     "name": "stdout",
     "output_type": "stream",
     "text": [
      "45\n",
      "9\n",
      "adeu\n"
     ]
    }
   ],
   "source": [
    "#asignación múltiple:\n",
    "a, b, c = 45, 9, \"adeu\"\n",
    "print(a)\n",
    "print(b)\n",
    "print(c)"
   ]
  },
  {
   "cell_type": "code",
   "execution_count": 7,
   "id": "5e784053-802d-493c-bd34-8601999afe6a",
   "metadata": {},
   "outputs": [
    {
     "name": "stdout",
     "output_type": "stream",
     "text": [
      "9\n",
      "adeu\n",
      "45\n"
     ]
    }
   ],
   "source": [
    "# Per no fer temporals:\n",
    "a, b, c = b, c, a\n",
    "print(a)\n",
    "print(b)\n",
    "print(c)"
   ]
  },
  {
   "cell_type": "markdown",
   "id": "e5306f93-93c4-441b-9e67-2d2509583d31",
   "metadata": {},
   "source": [
    "## Diccionaris\n",
    "\n",
    "Un objecte que conté items que tenen assignada una clau"
   ]
  },
  {
   "cell_type": "code",
   "execution_count": 14,
   "id": "679212d8-8c17-404f-baef-b43c4f481903",
   "metadata": {},
   "outputs": [
    {
     "data": {
      "text/plain": [
       "{1: 'un', 2: 'dos', 3: 'tres', 4: 'quatre', 80: 'vuitanta'}"
      ]
     },
     "execution_count": 14,
     "metadata": {},
     "output_type": "execute_result"
    }
   ],
   "source": [
    "diccionari = {1 : \"un\",\n",
    "              2 : \"dos\",\n",
    "              3 : \"tres\",\n",
    "              4 : \"quatre\",\n",
    "              80 : \"vuitanta\",\n",
    "             }\n",
    "diccionari"
   ]
  },
  {
   "cell_type": "code",
   "execution_count": 16,
   "id": "a5f25a22-8761-4bba-a5ed-141e61562ca2",
   "metadata": {},
   "outputs": [
    {
     "data": {
      "text/plain": [
       "'tres'"
      ]
     },
     "execution_count": 16,
     "metadata": {},
     "output_type": "execute_result"
    }
   ],
   "source": [
    "diccionari[3]"
   ]
  },
  {
   "cell_type": "code",
   "execution_count": 18,
   "id": "4e2c3ea0-c0a3-46f9-bd80-4b48fd531dad",
   "metadata": {},
   "outputs": [
    {
     "data": {
      "text/plain": [
       "True"
      ]
     },
     "execution_count": 18,
     "metadata": {},
     "output_type": "execute_result"
    }
   ],
   "source": [
    "1 in diccionari #Només és amb la clau"
   ]
  },
  {
   "cell_type": "code",
   "execution_count": 19,
   "id": "351fe8d7-52eb-442c-8f25-33b130d5a9a9",
   "metadata": {},
   "outputs": [
    {
     "data": {
      "text/plain": [
       "False"
      ]
     },
     "execution_count": 19,
     "metadata": {},
     "output_type": "execute_result"
    }
   ],
   "source": [
    "\"un\" in diccionari"
   ]
  },
  {
   "cell_type": "code",
   "execution_count": 23,
   "id": "ecb49226-0458-46d2-ac8a-b1fd3d89cbf8",
   "metadata": {},
   "outputs": [
    {
     "name": "stdout",
     "output_type": "stream",
     "text": [
      "{1: 'un', 2: 'dos', 3: 'tres', 4: 'quatre', 80: 'vuitanta', 0: None}\n",
      "{1: 'un', 2: 'dos', 3: 'tres', 4: 'quatre', 80: 'vuitanta', 0: 'ZERO'}\n"
     ]
    }
   ],
   "source": [
    "# Es pot afegir talcual\n",
    "diccionari[0] = None\n",
    "print(diccionari)\n",
    "# Es pot modificar també\n",
    "diccionari[0] = 'ZERO'\n",
    "print(diccionari)"
   ]
  },
  {
   "cell_type": "markdown",
   "id": "32d65929-c1f4-4c09-b69e-a19db74183ca",
   "metadata": {},
   "source": [
    "#### Mètodes:\n"
   ]
  },
  {
   "cell_type": "code",
   "execution_count": 24,
   "id": "d9feae88-e5e7-4be5-8ca5-bcc399401eb4",
   "metadata": {},
   "outputs": [
    {
     "data": {
      "text/plain": [
       "dict_values(['un', 'dos', 'tres', 'quatre', 'vuitanta', 'ZERO'])"
      ]
     },
     "execution_count": 24,
     "metadata": {},
     "output_type": "execute_result"
    }
   ],
   "source": [
    "diccionari.values()"
   ]
  },
  {
   "cell_type": "code",
   "execution_count": 25,
   "id": "6f2d9b1e-0b99-4575-9f4d-f9a361064408",
   "metadata": {},
   "outputs": [
    {
     "data": {
      "text/plain": [
       "dict_items([(1, 'un'), (2, 'dos'), (3, 'tres'), (4, 'quatre'), (80, 'vuitanta'), (0, 'ZERO')])"
      ]
     },
     "execution_count": 25,
     "metadata": {},
     "output_type": "execute_result"
    }
   ],
   "source": [
    "diccionari.items()"
   ]
  },
  {
   "cell_type": "code",
   "execution_count": 27,
   "id": "8caaedfe-fe8e-4975-95b7-aea6c0783e79",
   "metadata": {},
   "outputs": [
    {
     "data": {
      "text/plain": [
       "False"
      ]
     },
     "execution_count": 27,
     "metadata": {},
     "output_type": "execute_result"
    }
   ],
   "source": [
    "4 in diccionari.items()"
   ]
  },
  {
   "cell_type": "code",
   "execution_count": 29,
   "id": "b9dcda96-db8c-48a5-a8ff-c496638757e2",
   "metadata": {},
   "outputs": [
    {
     "data": {
      "text/plain": [
       "True"
      ]
     },
     "execution_count": 29,
     "metadata": {},
     "output_type": "execute_result"
    }
   ],
   "source": [
    "(4, 'quatre') in diccionari.items()"
   ]
  },
  {
   "cell_type": "code",
   "execution_count": 26,
   "id": "c3d27697-6d3a-44c3-945b-5bd94811519d",
   "metadata": {},
   "outputs": [
    {
     "data": {
      "text/plain": [
       "dict_keys([1, 2, 3, 4, 80, 0])"
      ]
     },
     "execution_count": 26,
     "metadata": {},
     "output_type": "execute_result"
    }
   ],
   "source": [
    "diccionari.keys()"
   ]
  },
  {
   "cell_type": "code",
   "execution_count": 30,
   "id": "6617e894-9ecb-44cf-9431-36db58ff63d2",
   "metadata": {},
   "outputs": [
    {
     "data": {
      "text/plain": [
       "{1: 'un',\n",
       " 2: 'dos',\n",
       " 3: 'tres',\n",
       " 4: 'quatre',\n",
       " 80: 'vuitanta',\n",
       " 0: 'ZERO',\n",
       " None: 'res'}"
      ]
     },
     "execution_count": 30,
     "metadata": {},
     "output_type": "execute_result"
    }
   ],
   "source": [
    "diccionari[None] = 'res'\n",
    "diccionari"
   ]
  },
  {
   "cell_type": "markdown",
   "id": "7bd041f0-40df-4e97-80eb-cffc738e332c",
   "metadata": {},
   "source": [
    "### Elements Buits:\n"
   ]
  },
  {
   "cell_type": "code",
   "execution_count": 32,
   "id": "424c3e97-9dde-4f58-8fdf-15d48b098689",
   "metadata": {},
   "outputs": [
    {
     "data": {
      "text/plain": [
       "[]"
      ]
     },
     "execution_count": 32,
     "metadata": {},
     "output_type": "execute_result"
    }
   ],
   "source": [
    "llista = list()\n",
    "# o\n",
    "llista = []"
   ]
  },
  {
   "cell_type": "code",
   "execution_count": 36,
   "id": "af2858c8-65c6-46b1-98a3-e201125d8bee",
   "metadata": {},
   "outputs": [
    {
     "data": {
      "text/plain": [
       "()"
      ]
     },
     "execution_count": 36,
     "metadata": {},
     "output_type": "execute_result"
    }
   ],
   "source": [
    "tuppla = tuple()\n",
    "# o \n",
    "tuppla2 = ()\n",
    "tuppla"
   ]
  },
  {
   "cell_type": "code",
   "execution_count": 40,
   "id": "167c36ad-4817-4f90-84ba-de18b9399bca",
   "metadata": {},
   "outputs": [
    {
     "data": {
      "text/plain": [
       "set()"
      ]
     },
     "execution_count": 40,
     "metadata": {},
     "output_type": "execute_result"
    }
   ],
   "source": [
    "conjunt = set()\n",
    "# o \n",
    "conjunt2 = {} #Aixi creem un diccionari\n",
    "conjunt\n",
    "# Per crear un conjunt buit només es pot fer amb el constructor"
   ]
  },
  {
   "cell_type": "code",
   "execution_count": 41,
   "id": "f5789366-53f0-4821-afb4-3c2966c4ddc2",
   "metadata": {},
   "outputs": [
    {
     "data": {
      "text/plain": [
       "{}"
      ]
     },
     "execution_count": 41,
     "metadata": {},
     "output_type": "execute_result"
    }
   ],
   "source": [
    "diccionari = dict()\n",
    "# o\n",
    "diccionari = {}\n",
    "diccionari"
   ]
  },
  {
   "cell_type": "code",
   "execution_count": 44,
   "id": "f9b25cf6-6572-4c1f-aacb-4552757377d3",
   "metadata": {},
   "outputs": [
    {
     "data": {
      "text/plain": [
       "{(1, None, 9.8), 35, 42}"
      ]
     },
     "execution_count": 44,
     "metadata": {},
     "output_type": "execute_result"
    }
   ],
   "source": [
    "conjunt = set()\n",
    "conjunt.add(35)\n",
    "conjunt.add(42)\n",
    "conjunt.add((1, None, 9.8))\n",
    "conjunt"
   ]
  },
  {
   "cell_type": "code",
   "execution_count": 46,
   "id": "d18cbae4-2249-4d09-845f-de7935e6935b",
   "metadata": {},
   "outputs": [
    {
     "ename": "TypeError",
     "evalue": "unhashable type: 'list'",
     "output_type": "error",
     "traceback": [
      "\u001b[0;31m---------------------------------------------------------------------------\u001b[0m",
      "\u001b[0;31mTypeError\u001b[0m                                 Traceback (most recent call last)",
      "Cell \u001b[0;32mIn[46], line 1\u001b[0m\n\u001b[0;32m----> 1\u001b[0m \u001b[43mconjunt\u001b[49m\u001b[38;5;241;43m.\u001b[39;49m\u001b[43madd\u001b[49m\u001b[43m(\u001b[49m\u001b[43m[\u001b[49m\u001b[38;5;241;43m5\u001b[39;49m\u001b[43m,\u001b[49m\u001b[43m \u001b[49m\u001b[38;5;241;43m8\u001b[39;49m\u001b[43m]\u001b[49m\u001b[43m)\u001b[49m\n",
      "\u001b[0;31mTypeError\u001b[0m: unhashable type: 'list'"
     ]
    }
   ],
   "source": [
    "conjunt.add([5, 8]) # NO podem afegir una llista al conjunt"
   ]
  },
  {
   "cell_type": "markdown",
   "id": "5b36c40f-f9c3-4be0-b2dc-e644b99fc98b",
   "metadata": {},
   "source": [
    "## Cadenas de Texto"
   ]
  },
  {
   "cell_type": "code",
   "execution_count": 48,
   "id": "a8c97830-fa8b-402d-a5a7-b42885c968f6",
   "metadata": {},
   "outputs": [
    {
     "data": {
      "text/plain": [
       "'Amb cometes dobles'"
      ]
     },
     "execution_count": 48,
     "metadata": {},
     "output_type": "execute_result"
    }
   ],
   "source": [
    "# Podem utilitzar cadenes simples o dobles\n",
    "'Amb cometes simples'\n",
    "\"Amb cometes dobles\""
   ]
  },
  {
   "cell_type": "code",
   "execution_count": 49,
   "id": "c3078a76-6ab4-4ff0-8cf7-4c60c274ce1b",
   "metadata": {},
   "outputs": [
    {
     "ename": "SyntaxError",
     "evalue": "unterminated string literal (detected at line 2) (1086739349.py, line 2)",
     "output_type": "error",
     "traceback": [
      "\u001b[0;36m  Cell \u001b[0;32mIn[49], line 2\u001b[0;36m\u001b[0m\n\u001b[0;31m    'Ell juga a futbol amb l'Oriol'\u001b[0m\n\u001b[0m                                  ^\u001b[0m\n\u001b[0;31mSyntaxError\u001b[0m\u001b[0;31m:\u001b[0m unterminated string literal (detected at line 2)\n"
     ]
    }
   ],
   "source": [
    "# Amb cometes simples hi pot haber un problema\n",
    "'Ell juga a futbol amb l'Oriol'\n",
    "# Utilitzem les dobles en aquest cas"
   ]
  },
  {
   "cell_type": "code",
   "execution_count": 51,
   "id": "64d43cce-5486-4465-9640-b4630fc470d0",
   "metadata": {},
   "outputs": [
    {
     "data": {
      "text/plain": [
       "\"'\""
      ]
     },
     "execution_count": 51,
     "metadata": {},
     "output_type": "execute_result"
    }
   ],
   "source": [
    "# Una opció és utilitzar la barra invertida\n",
    "'\\''"
   ]
  },
  {
   "cell_type": "code",
   "execution_count": 54,
   "id": "46bf1b5f-5193-4768-bc82-82d8ae2c371d",
   "metadata": {},
   "outputs": [
    {
     "data": {
      "text/plain": [
       "'Hola que tal com estas, be? Jo si'"
      ]
     },
     "execution_count": 54,
     "metadata": {},
     "output_type": "execute_result"
    }
   ],
   "source": [
    "# En aquest exemple eliminem la '\\n'\n",
    "'Hola que tal \\\n",
    "com estas, be? \\\n",
    "Jo si'"
   ]
  },
  {
   "cell_type": "code",
   "execution_count": 62,
   "id": "3a0a9b3c-cfc7-48a2-8fc5-a624647d88b9",
   "metadata": {},
   "outputs": [
    {
     "name": "stdout",
     "output_type": "stream",
     "text": [
      " adiosue tal\n"
     ]
    }
   ],
   "source": [
    "# El que fa el '\\r' es colocar el cursor a primera linea i continuar escribint\n",
    "print('Hola que tal\\r adios') "
   ]
  },
  {
   "cell_type": "code",
   "execution_count": 65,
   "id": "003507b2-f43d-4353-b21a-5e2d0d458281",
   "metadata": {},
   "outputs": [
    {
     "name": "stdout",
     "output_type": "stream",
     "text": [
      " És una cadena llarga que te moltes linees\n",
      "que pot servir per documentar fitxers\n",
      "o pel que vulguis \n"
     ]
    }
   ],
   "source": [
    "cadena_llarga = ''' És una cadena llarga que te moltes linees\n",
    "que pot servir per documentar fitxers\n",
    "o pel que vulguis '''\n",
    "\n",
    "print(cadena_llarga)"
   ]
  },
  {
   "cell_type": "code",
   "execution_count": 66,
   "id": "54d31a89-057d-45d9-a493-cc6ba315863f",
   "metadata": {},
   "outputs": [
    {
     "data": {
      "text/plain": [
       "'pdbqpdbqpdbqpdbqpdbqpdbqpdbqpdbq'"
      ]
     },
     "execution_count": 66,
     "metadata": {},
     "output_type": "execute_result"
    }
   ],
   "source": [
    "# Multiplicació de cadenes\n",
    "\"pdbq\" * 8"
   ]
  },
  {
   "cell_type": "code",
   "execution_count": 69,
   "id": "fd53eb9c-88e6-4cb9-9440-bdda30d34827",
   "metadata": {},
   "outputs": [
    {
     "data": {
      "text/plain": [
       "'==========================================================================='"
      ]
     },
     "execution_count": 69,
     "metadata": {},
     "output_type": "execute_result"
    }
   ],
   "source": [
    "\"=\" * 75"
   ]
  },
  {
   "cell_type": "code",
   "execution_count": 76,
   "id": "9c7127b6-cc21-49d7-96fc-272dcfbae30e",
   "metadata": {},
   "outputs": [
    {
     "data": {
      "text/plain": [
       "'Hola Adios {42, 35, (1, None, 9.8)}'"
      ]
     },
     "execution_count": 76,
     "metadata": {},
     "output_type": "execute_result"
    }
   ],
   "source": [
    "\"Hola\" + \" \" + \"Adios \" + str(conjunt)"
   ]
  },
  {
   "cell_type": "code",
   "execution_count": 77,
   "id": "3783a5e2-8ca0-4615-8e2f-e7d99b466022",
   "metadata": {},
   "outputs": [
    {
     "name": "stdout",
     "output_type": "stream",
     "text": [
      "Hola Adios {42, 35, (1, None, 9.8)}\n"
     ]
    }
   ],
   "source": [
    "print(\"Hola\" + \" \" + \"Adios \" + str(conjunt))"
   ]
  },
  {
   "cell_type": "code",
   "execution_count": 81,
   "id": "16b673b6-73c2-4349-ada1-8a476e6b8c67",
   "metadata": {},
   "outputs": [
    {
     "name": "stdout",
     "output_type": "stream",
     "text": [
      "Mi numero: 345 mi altura(9+9j)\n"
     ]
    }
   ],
   "source": [
    "print(\"Mi numero: \" + str(345) + \"; mi altura\" + str(9+9j))"
   ]
  },
  {
   "cell_type": "code",
   "execution_count": 84,
   "id": "282c2d40-f4a2-4b22-aaa3-befd4cf1e82e",
   "metadata": {},
   "outputs": [
    {
     "data": {
      "text/plain": [
       "'esto es una cadena f, ********* podemos escribir entre llaves lo que queramos {42, 35, (1, None, 9.8)}'"
      ]
     },
     "execution_count": 84,
     "metadata": {},
     "output_type": "execute_result"
    }
   ],
   "source": [
    "f\"\"\"esto es una cadena f, {'*' * 9} podemos escribir entre llaves lo que queramos {conjunt}\"\"\""
   ]
  },
  {
   "cell_type": "code",
   "execution_count": 87,
   "id": "d1fab2d8-ce73-4318-ba6f-f0c89f960a7a",
   "metadata": {},
   "outputs": [
    {
     "data": {
      "text/plain": [
       "'Hola  siugluv euq lep o\\nsrextif ratnemucod rep rivres top euq\\nseenil setlom et euq agrall anedac anu sÉ : escribim la cadena al revés'"
      ]
     },
     "execution_count": 87,
     "metadata": {},
     "output_type": "execute_result"
    }
   ],
   "source": [
    "f'Hola {cadena_llarga[::-1]}: escribim la cadena al revés'"
   ]
  },
  {
   "cell_type": "code",
   "execution_count": 93,
   "id": "a4220b4b-4df4-46b1-ab28-9fa9dfa4bb90",
   "metadata": {},
   "outputs": [
    {
     "ename": "TypeError",
     "evalue": "'str' object does not support item assignment",
     "output_type": "error",
     "traceback": [
      "\u001b[0;31m---------------------------------------------------------------------------\u001b[0m",
      "\u001b[0;31mTypeError\u001b[0m                                 Traceback (most recent call last)",
      "Cell \u001b[0;32mIn[93], line 1\u001b[0m\n\u001b[0;32m----> 1\u001b[0m \u001b[43mcadena_llarga\u001b[49m\u001b[43m[\u001b[49m\u001b[38;5;241;43m3\u001b[39;49m\u001b[43m:\u001b[49m\u001b[38;5;241;43m8\u001b[39;49m\u001b[43m:\u001b[49m\u001b[43m]\u001b[49m \u001b[38;5;241m=\u001b[39m \u001b[38;5;124m\"\u001b[39m\u001b[38;5;124molpa\u001b[39m\u001b[38;5;124m\"\u001b[39m\n",
      "\u001b[0;31mTypeError\u001b[0m: 'str' object does not support item assignment"
     ]
    }
   ],
   "source": [
    "# Les cadenes són inmutables\n",
    "cadena_llarga[3:8:] = \"olpa\""
   ]
  },
  {
   "cell_type": "code",
   "execution_count": 100,
   "id": "e3087158-c305-4792-8d0a-8c24f71daea6",
   "metadata": {},
   "outputs": [
    {
     "data": {
      "text/plain": [
       "b'hola que tal 67'"
      ]
     },
     "execution_count": 100,
     "metadata": {},
     "output_type": "execute_result"
    }
   ],
   "source": [
    "# Cadena bites\n",
    "b\"hola que tal 67\"\n",
    "b\"Hola, què tal\" #No funciona pq el accent no és un caràcter ASCII"
   ]
  },
  {
   "cell_type": "code",
   "execution_count": 97,
   "id": "d76967d6-3bd4-4838-bbaf-edfb18700039",
   "metadata": {},
   "outputs": [
    {
     "data": {
      "text/plain": [
       "b'HOLA QUE TAL 67'"
      ]
     },
     "execution_count": 97,
     "metadata": {},
     "output_type": "execute_result"
    }
   ],
   "source": [
    "b\"hola que tal 67\".upper()"
   ]
  },
  {
   "cell_type": "code",
   "execution_count": 98,
   "id": "105c8401-882e-464d-8c17-78577f274845",
   "metadata": {},
   "outputs": [
    {
     "data": {
      "text/plain": [
       "b'Hola Que Tal 67'"
      ]
     },
     "execution_count": 98,
     "metadata": {},
     "output_type": "execute_result"
    }
   ],
   "source": [
    "b\"hola que tal 67\".title()"
   ]
  },
  {
   "cell_type": "code",
   "execution_count": 103,
   "id": "c2533fc5-a901-44da-a4ce-0c078772170f",
   "metadata": {},
   "outputs": [
    {
     "name": "stdout",
     "output_type": "stream",
     "text": [
      "[1, 'hola']\n"
     ]
    }
   ],
   "source": [
    "lista = [1, 3.9, \"hola\"]\n",
    "del lista[1]\n",
    "print(lista)"
   ]
  },
  {
   "cell_type": "code",
   "execution_count": 105,
   "id": "407546ef-098c-4fea-a76d-1f0e39036511",
   "metadata": {
    "scrolled": true
   },
   "outputs": [
    {
     "ename": "NameError",
     "evalue": "name 'lista' is not defined",
     "output_type": "error",
     "traceback": [
      "\u001b[0;31m---------------------------------------------------------------------------\u001b[0m",
      "\u001b[0;31mNameError\u001b[0m                                 Traceback (most recent call last)",
      "Cell \u001b[0;32mIn[105], line 1\u001b[0m\n\u001b[0;32m----> 1\u001b[0m \u001b[38;5;28;01mdel\u001b[39;00m \u001b[43mlista\u001b[49m\n\u001b[1;32m      2\u001b[0m lista\n",
      "\u001b[0;31mNameError\u001b[0m: name 'lista' is not defined"
     ]
    }
   ],
   "source": [
    "# Desvinculem l'objecte de la variable\n",
    "del lista\n",
    "lista"
   ]
  },
  {
   "cell_type": "markdown",
   "id": "422f4acd-0c82-448a-8483-1ae39847fa9c",
   "metadata": {},
   "source": [
    "## Clase de Tipo Iterable\n",
    "\n",
    "\n"
   ]
  },
  {
   "cell_type": "markdown",
   "id": "8be7a902-c39b-42e3-b467-763a356a9e7f",
   "metadata": {},
   "source": [
    "### Iterador"
   ]
  },
  {
   "cell_type": "code",
   "execution_count": 6,
   "id": "7d952fa8-0a9d-48c5-bc37-0971181d6765",
   "metadata": {},
   "outputs": [
    {
     "name": "stdout",
     "output_type": "stream",
     "text": [
      "groc\n",
      "verd\n",
      "blau\n"
     ]
    }
   ],
   "source": [
    "colors = {\"blau\", \"groc\", \"verd\"}\n",
    "iterator = iter(colors)\n",
    "\n",
    "print(next(iterator))\n",
    "print(next(iterator))\n",
    "print(next(iterator))"
   ]
  },
  {
   "cell_type": "code",
   "execution_count": 16,
   "id": "131f9107-c95d-4f30-ab8d-e4c9c1778ca8",
   "metadata": {},
   "outputs": [
    {
     "name": "stdout",
     "output_type": "stream",
     "text": [
      "0\n",
      "1\n",
      "2\n",
      "3\n"
     ]
    },
    {
     "data": {
      "text/plain": [
       "7"
      ]
     },
     "execution_count": 16,
     "metadata": {},
     "output_type": "execute_result"
    }
   ],
   "source": [
    "rang = range(10)\n",
    "iterador = iter(rang)\n",
    "print(next(iterador))\n",
    "print(next(iterador))\n",
    "print(next(iterador))\n",
    "print(next(iterador))\n",
    "next(iterador)\n",
    "next(iterador)\n",
    "next(iterador)\n",
    "next(iterador)"
   ]
  },
  {
   "cell_type": "code",
   "execution_count": 19,
   "id": "fcef9929-d40f-4bf4-a02b-1d0750f8386e",
   "metadata": {},
   "outputs": [
    {
     "data": {
      "text/plain": [
       "504414979892390296667771300610953433582177415142724640385043847481569913987226620136227616819038944925700130237863681241961907820372286600667741210983984032726665779257776482073026378631304152581884581260981320184308551345436157178230447214544777225449382086628103952806065731252042425405800483191593600099999999999999999999999999999999999999999999999999999999999999999999999999999999999999999999999999999999999999999999999999999999999999999999999999999999999999999999999999999999999999999999999999999999"
      ]
     },
     "execution_count": 19,
     "metadata": {},
     "output_type": "execute_result"
    }
   ],
   "source": [
    "rango = range(327 ** 42, 330 ** 200)\n",
    "rango[-1]\n",
    "# Els numeros no estan en memòria, es generen al demanarlos"
   ]
  },
  {
   "cell_type": "code",
   "execution_count": 20,
   "id": "d3750b3a-4cb9-4896-8d8f-672dd5c36084",
   "metadata": {},
   "outputs": [
    {
     "data": {
      "text/plain": [
       "[33, 37, 41, 45, 49, 53, 57, 61, 65, 69]"
      ]
     },
     "execution_count": 20,
     "metadata": {},
     "output_type": "execute_result"
    }
   ],
   "source": [
    "rango = range(33, 71, 4) #Del 33 al 71 amb increments de 4 en 4\n",
    "list(rango)"
   ]
  },
  {
   "cell_type": "markdown",
   "id": "378b14d8-0f41-4543-a48e-5228c71268c1",
   "metadata": {},
   "source": [
    "#### NoneType"
   ]
  },
  {
   "cell_type": "code",
   "execution_count": 21,
   "id": "533cf48c-8d79-4aae-9db0-e4aa5d856c8c",
   "metadata": {},
   "outputs": [
    {
     "data": {
      "text/plain": [
       "NoneType"
      ]
     },
     "execution_count": 21,
     "metadata": {},
     "output_type": "execute_result"
    }
   ],
   "source": [
    "type(None)"
   ]
  },
  {
   "cell_type": "markdown",
   "id": "01d41127-8acd-4f11-814c-582b85028f47",
   "metadata": {},
   "source": [
    "#### Elipsis"
   ]
  },
  {
   "cell_type": "code",
   "execution_count": 25,
   "id": "b9a01a57-69cf-4181-bc09-aaeb1b2c3bdf",
   "metadata": {},
   "outputs": [
    {
     "data": {
      "text/plain": [
       "Ellipsis"
      ]
     },
     "execution_count": 25,
     "metadata": {},
     "output_type": "execute_result"
    }
   ],
   "source": [
    "... #Per exemple per fer un ndarray i no sabem encara quantes dimensions té"
   ]
  },
  {
   "cell_type": "code",
   "execution_count": 23,
   "id": "313bf7e1-07aa-402a-bc4b-1861246753c1",
   "metadata": {},
   "outputs": [
    {
     "data": {
      "text/plain": [
       "ellipsis"
      ]
     },
     "execution_count": 23,
     "metadata": {},
     "output_type": "execute_result"
    }
   ],
   "source": [
    "Ellipsis # Evalua a true\n",
    "type(Ellipsis)"
   ]
  },
  {
   "cell_type": "markdown",
   "id": "6794454e-cc7e-4219-9075-61e3494764e5",
   "metadata": {},
   "source": [
    "#### Exceptions"
   ]
  },
  {
   "cell_type": "code",
   "execution_count": 27,
   "id": "bba859d7-ab3d-4841-af41-dd55f85b972e",
   "metadata": {},
   "outputs": [
    {
     "ename": "NameError",
     "evalue": "name 'excep' is not defined",
     "output_type": "error",
     "traceback": [
      "\u001b[0;31m---------------------------------------------------------------------------\u001b[0m",
      "\u001b[0;31mNameError\u001b[0m                                 Traceback (most recent call last)",
      "Cell \u001b[0;32mIn[27], line 1\u001b[0m\n\u001b[0;32m----> 1\u001b[0m \u001b[43mexcep\u001b[49m \u001b[38;5;66;03m# Ens genera la excepció 'NameError'\u001b[39;00m\n",
      "\u001b[0;31mNameError\u001b[0m: name 'excep' is not defined"
     ]
    }
   ],
   "source": [
    "excep # Ens genera la excepció 'NameError'"
   ]
  },
  {
   "cell_type": "code",
   "execution_count": 31,
   "id": "6f08c96d-4053-446e-82da-e47186611ee7",
   "metadata": {},
   "outputs": [
    {
     "data": {
      "text/plain": [
       "array([[[1, 2],\n",
       "        [3, 4]],\n",
       "\n",
       "       [[5, 6],\n",
       "        [7, 8]]])"
      ]
     },
     "execution_count": 31,
     "metadata": {},
     "output_type": "execute_result"
    }
   ],
   "source": [
    "import numpy as np\n",
    "\n",
    "tensor = np.array([[[1, 2], [3, 4]],[[5, 6], [7, 8]]])\n",
    "tensor"
   ]
  },
  {
   "cell_type": "code",
   "execution_count": 33,
   "id": "a0b2e7ce-1380-40e6-9f8e-90d75d628954",
   "metadata": {},
   "outputs": [
    {
     "data": {
      "text/plain": [
       "array([[1, 3],\n",
       "       [5, 7]])"
      ]
     },
     "execution_count": 33,
     "metadata": {},
     "output_type": "execute_result"
    }
   ],
   "source": [
    "tensor[:,:,0] #Els valors 0 de les diferents dimensions"
   ]
  },
  {
   "cell_type": "code",
   "execution_count": 35,
   "id": "876a8f27-7d08-4c42-9e3a-84012dacd4f5",
   "metadata": {},
   "outputs": [
    {
     "data": {
      "text/plain": [
       "array([[1, 3],\n",
       "       [5, 7]])"
      ]
     },
     "execution_count": 35,
     "metadata": {},
     "output_type": "execute_result"
    }
   ],
   "source": [
    "tensor[..., 0] #Ens donara el mateix que abans pero ara ho farà també per més dimensions"
   ]
  },
  {
   "cell_type": "markdown",
   "id": "d12b2973-8a12-4e3e-82bf-94fcc926327c",
   "metadata": {},
   "source": [
    "## Estructures de condicions\n"
   ]
  },
  {
   "cell_type": "markdown",
   "id": "dfc5a742-c9f5-428b-aec9-64a2b12d98d4",
   "metadata": {},
   "source": [
    "#### If / else"
   ]
  },
  {
   "cell_type": "code",
   "execution_count": 39,
   "id": "9abfbb58-7d6e-4be8-b343-bc799ba4496f",
   "metadata": {},
   "outputs": [
    {
     "name": "stdout",
     "output_type": "stream",
     "text": [
      "Adeu\n"
     ]
    }
   ],
   "source": [
    "a = 8;\n",
    "\n",
    "if a > 10:\n",
    "    print(\"Hola\")\n",
    "elif a <= 10 and a >= 5:\n",
    "    print(\"Adeu\")\n",
    "else:\n",
    "    print(\"Cap\")\n"
   ]
  },
  {
   "cell_type": "code",
   "execution_count": 49,
   "id": "676955d6-430f-49fc-995f-4077084a8f2d",
   "metadata": {},
   "outputs": [
    {
     "name": "stdout",
     "output_type": "stream",
     "text": [
      "Impar!\n"
     ]
    }
   ],
   "source": [
    "num = 33\n",
    "if not num % 2:\n",
    "    print(\"Par!\")\n",
    "else:\n",
    "    print(\"Impar!\")"
   ]
  },
  {
   "cell_type": "markdown",
   "id": "8586c8aa-9e80-4ad0-aafa-c8f26e4c0a7b",
   "metadata": {},
   "source": [
    "#### Operador Ternario\n",
    "\n",
    "expressionTrue if condición else expresionFalse"
   ]
  },
  {
   "cell_type": "code",
   "execution_count": 52,
   "id": "5eca15f4-0856-462d-836a-32979790648e",
   "metadata": {},
   "outputs": [
    {
     "data": {
      "text/plain": [
       "13"
      ]
     },
     "execution_count": 52,
     "metadata": {},
     "output_type": "execute_result"
    }
   ],
   "source": [
    "# Operador per fer el valor absolur\n",
    "num = -13\n",
    "\n",
    "num if num > 0 else -num"
   ]
  },
  {
   "cell_type": "markdown",
   "id": "b726138b-5508-45eb-8522-e6f85ccbdf3f",
   "metadata": {},
   "source": [
    "### Estructuras Iterativas\n",
    "\n",
    "##### For i While"
   ]
  },
  {
   "cell_type": "code",
   "execution_count": 55,
   "id": "a0ae88e1-a150-478c-9625-1a26ddf4ce75",
   "metadata": {},
   "outputs": [
    {
     "name": "stdout",
     "output_type": "stream",
     "text": [
      "6\n",
      "5\n",
      "4\n",
      "3\n",
      "2\n",
      "1\n"
     ]
    }
   ],
   "source": [
    "numero = 6\n",
    "while numero > 0:\n",
    "    print(numero)\n",
    "    numero -= 1\n"
   ]
  },
  {
   "cell_type": "code",
   "execution_count": 57,
   "id": "a670d6fc-55b0-4ac5-91ef-3a1e7cc463f8",
   "metadata": {},
   "outputs": [
    {
     "name": "stdout",
     "output_type": "stream",
     "text": [
      "green\n",
      "black\n",
      "red\n",
      "blue\n"
     ]
    }
   ],
   "source": [
    "colores = {\"red\", \"green\", \"blue\", \"black\"}\n",
    "\n",
    "while colores:\n",
    "    print (f\"{colores.pop()}\")"
   ]
  },
  {
   "cell_type": "markdown",
   "id": "58c95ab2-0968-4905-9f71-53b13792d08e",
   "metadata": {},
   "source": [
    "##### Asignación evaluada (morsa\n",
    "\n",
    "**:=**"
   ]
  },
  {
   "cell_type": "code",
   "execution_count": 62,
   "id": "cc065c95-efff-4d55-bf7f-389227b77e2a",
   "metadata": {},
   "outputs": [
    {
     "data": {
      "text/plain": [
       "'green'"
      ]
     },
     "execution_count": 62,
     "metadata": {},
     "output_type": "execute_result"
    }
   ],
   "source": [
    "colors = {\"red\", \"green\", \"blue\", \"black\"}\n",
    "(color := colors.pop())"
   ]
  },
  {
   "cell_type": "code",
   "execution_count": 64,
   "id": "4f353ef7-1353-4dc6-a83f-c5414a7f7b71",
   "metadata": {},
   "outputs": [
    {
     "name": "stdout",
     "output_type": "stream",
     "text": [
      "black\n",
      "blackblack\n",
      "red\n",
      "redred\n",
      "blue\n",
      "blueblue\n"
     ]
    },
    {
     "ename": "KeyError",
     "evalue": "'pop from an empty set'",
     "output_type": "error",
     "traceback": [
      "\u001b[0;31m---------------------------------------------------------------------------\u001b[0m",
      "\u001b[0;31mKeyError\u001b[0m                                  Traceback (most recent call last)",
      "Cell \u001b[0;32mIn[64], line 1\u001b[0m\n\u001b[0;32m----> 1\u001b[0m \u001b[38;5;28;01mwhile\u001b[39;00m (color \u001b[38;5;241m:=\u001b[39m \u001b[43mcolors\u001b[49m\u001b[38;5;241;43m.\u001b[39;49m\u001b[43mpop\u001b[49m\u001b[43m(\u001b[49m\u001b[43m)\u001b[49m):\n\u001b[1;32m      2\u001b[0m     \u001b[38;5;28mprint\u001b[39m(color)\n\u001b[1;32m      3\u001b[0m     \u001b[38;5;28mprint\u001b[39m(color \u001b[38;5;241m*\u001b[39m \u001b[38;5;241m2\u001b[39m)\n",
      "\u001b[0;31mKeyError\u001b[0m: 'pop from an empty set'"
     ]
    }
   ],
   "source": [
    "while (color := colors.pop()):\n",
    "    print(color)\n",
    "    print(color * 2)"
   ]
  },
  {
   "cell_type": "markdown",
   "id": "ee91c9f3-9e57-4a0d-8065-47ceab298e8e",
   "metadata": {},
   "source": [
    "#### For"
   ]
  },
  {
   "cell_type": "code",
   "execution_count": 67,
   "id": "6e483fe6-fee4-421a-9474-a34328db4e69",
   "metadata": {},
   "outputs": [
    {
     "name": "stdout",
     "output_type": "stream",
     "text": [
      "green\n",
      "black\n",
      "red\n",
      "blue\n"
     ]
    }
   ],
   "source": [
    "colors = {\"red\", \"green\", \"blue\", \"black\"}\n",
    "\n",
    "for color in colors:\n",
    "    print(f\"{color}\")"
   ]
  },
  {
   "cell_type": "code",
   "execution_count": 71,
   "id": "743e4a20-c773-4e10-8067-a3a487c606a3",
   "metadata": {},
   "outputs": [
    {
     "name": "stdout",
     "output_type": "stream",
     "text": [
      "green\n",
      "black\n",
      "red\n"
     ]
    }
   ],
   "source": [
    "colors = {\"red\", \"green\", \"blue\", \"black\"}\n",
    "\n",
    "for color in colors:\n",
    "    print(color)\n",
    "    if color == \"blue\": continue\n",
    "    elif color == \"red\": break\n",
    "else:#només s'executa si el bucle acaba de forma inesperada com amb un break\n",
    "    print(\"Ya no quedan colores\")"
   ]
  },
  {
   "cell_type": "code",
   "execution_count": 78,
   "id": "718aecd2-1550-4ae1-8b0f-0cbb2cacc79c",
   "metadata": {},
   "outputs": [
    {
     "name": "stdout",
     "output_type": "stream",
     "text": [
      "[9 7 1 0 7]\n",
      "9\n",
      "7\n",
      "1\n",
      "0\n",
      "7\n"
     ]
    }
   ],
   "source": [
    "import numpy as np\n",
    "\n",
    "vector = np.random.randint(0, 10, 5) #5 enters entre 0 i 10\n",
    "print (vector)\n",
    "for i in range(len(vector)):\n",
    "    print(vector[i])"
   ]
  }
 ],
 "metadata": {
  "kernelspec": {
   "display_name": "Python 3 (ipykernel)",
   "language": "python",
   "name": "python3"
  },
  "language_info": {
   "codemirror_mode": {
    "name": "ipython",
    "version": 3
   },
   "file_extension": ".py",
   "mimetype": "text/x-python",
   "name": "python",
   "nbconvert_exporter": "python",
   "pygments_lexer": "ipython3",
   "version": "3.12.3"
  }
 },
 "nbformat": 4,
 "nbformat_minor": 5
}
